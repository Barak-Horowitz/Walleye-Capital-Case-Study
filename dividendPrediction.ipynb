{
 "cells": [
  {
   "cell_type": "markdown",
   "metadata": {},
   "source": [
    "# Notebook Introduction\n",
    "Within this notebook i will be attempting to analyze a dataset storing a multitude of companies quarterly earning release dates, dividend declaration dates, and dividend expiration dates in order to understand the general flow of companies financial releases. The typical expected pattern is Quarter End Date, followed by an Earnings Declaration, followed by an Earnings Announcement, Followed by a Dividend Decleration, followed by a Dividend Expiration. Understanding how exactly this release schedule works, and the expected time between announcements is crucial to options trading as earning announcements lead to a massive increase of market volatility, by analyzing past data i hope to gain a deeper understanding of when to expect increased market volatility in the future."
   ]
  },
  {
   "cell_type": "code",
   "execution_count": 83,
   "metadata": {},
   "outputs": [],
   "source": [
    "# necessary import statements \n",
    "import pandas as pd \n",
    "import seaborn as sns\n",
    "import matplotlib.pyplot as plt\n",
    "from datetime import datetime\n",
    "import numpy as np\n",
    "from scipy.stats import norm"
   ]
  },
  {
   "cell_type": "markdown",
   "metadata": {},
   "source": [
    "# Step One: Building and cleaning the data\n",
    "before we proceed to analyze and make predictions from our dataset we must clean our dataset to our liking. This will consist of multiple key steps\n",
    "* importing our dataset and getting a general feel for the information it stores and how it stores it by looking at its statistics, as well as its datatypes\n",
    "* Combining earning declarations columns by choosing an appropriate value from \"EarningsDeclarationDate\" or \"EarningsDeclarationDateWSH\"\n",
    "* marking each datapoint with its appropriate fiscal quarter (as we may want to track differences between announcements in each quarter)\n",
    "* removing remaining null data\n",
    "We begin by importing our data from a csv file to a pandas dataframe and taking a look at its general statistics and datatypes "
   ]
  },
  {
   "cell_type": "code",
   "execution_count": 37,
   "metadata": {},
   "outputs": [
    {
     "data": {
      "text/plain": [
       "'\\nmarking each datapoint with its appropriate fiscal quarter (as we may want to track differences between announcements in each quarter)\\nmarking each date with its appropriate day of the week (as we may want to see if announcements are more likely to occur on a given weekday)\\n'"
      ]
     },
     "execution_count": 37,
     "metadata": {},
     "output_type": "execute_result"
    }
   ],
   "source": [
    "#TODO: DECIDE WHETHER TO FIND FOLLOWING DATA \n",
    "\"\"\"\n",
    "marking each datapoint with its appropriate fiscal quarter (as we may want to track differences between announcements in each quarter)\n",
    "marking each date with its appropriate day of the week (as we may want to see if announcements are more likely to occur on a given weekday)\n",
    "\"\"\""
   ]
  },
  {
   "cell_type": "code",
   "execution_count": 38,
   "metadata": {},
   "outputs": [
    {
     "data": {
      "text/html": [
       "<div>\n",
       "<style scoped>\n",
       "    .dataframe tbody tr th:only-of-type {\n",
       "        vertical-align: middle;\n",
       "    }\n",
       "\n",
       "    .dataframe tbody tr th {\n",
       "        vertical-align: top;\n",
       "    }\n",
       "\n",
       "    .dataframe thead th {\n",
       "        text-align: right;\n",
       "    }\n",
       "</style>\n",
       "<table border=\"1\" class=\"dataframe\">\n",
       "  <thead>\n",
       "    <tr style=\"text-align: right;\">\n",
       "      <th></th>\n",
       "      <th>USym</th>\n",
       "      <th>FiscalYear</th>\n",
       "      <th>QuarterEndDate</th>\n",
       "      <th>EarningsDeclarationDate</th>\n",
       "      <th>EarningsDeclarationDateWSH</th>\n",
       "      <th>EarningsAnnouncementDate</th>\n",
       "      <th>DividendDeclarationDate</th>\n",
       "      <th>DividendExDate</th>\n",
       "    </tr>\n",
       "  </thead>\n",
       "  <tbody>\n",
       "    <tr>\n",
       "      <th>0</th>\n",
       "      <td>EW</td>\n",
       "      <td>2016</td>\n",
       "      <td>3/31/2016</td>\n",
       "      <td>3/31/2016</td>\n",
       "      <td>3/31/2016</td>\n",
       "      <td>4/26/2016</td>\n",
       "      <td>(null)</td>\n",
       "      <td>(null)</td>\n",
       "    </tr>\n",
       "    <tr>\n",
       "      <th>1</th>\n",
       "      <td>EW</td>\n",
       "      <td>2016</td>\n",
       "      <td>6/30/2016</td>\n",
       "      <td>7/8/2016</td>\n",
       "      <td>7/8/2016</td>\n",
       "      <td>7/26/2016</td>\n",
       "      <td>(null)</td>\n",
       "      <td>(null)</td>\n",
       "    </tr>\n",
       "    <tr>\n",
       "      <th>2</th>\n",
       "      <td>EW</td>\n",
       "      <td>2016</td>\n",
       "      <td>9/30/2016</td>\n",
       "      <td>10/5/2016</td>\n",
       "      <td>10/4/2016</td>\n",
       "      <td>10/25/2016</td>\n",
       "      <td>(null)</td>\n",
       "      <td>(null)</td>\n",
       "    </tr>\n",
       "    <tr>\n",
       "      <th>3</th>\n",
       "      <td>EW</td>\n",
       "      <td>2016</td>\n",
       "      <td>12/31/2016</td>\n",
       "      <td>1/4/2017</td>\n",
       "      <td>1/3/2017</td>\n",
       "      <td>2/1/2017</td>\n",
       "      <td>(null)</td>\n",
       "      <td>(null)</td>\n",
       "    </tr>\n",
       "    <tr>\n",
       "      <th>4</th>\n",
       "      <td>EW</td>\n",
       "      <td>2017</td>\n",
       "      <td>3/31/2017</td>\n",
       "      <td>4/7/2017</td>\n",
       "      <td>4/6/2017</td>\n",
       "      <td>4/25/2017</td>\n",
       "      <td>(null)</td>\n",
       "      <td>(null)</td>\n",
       "    </tr>\n",
       "  </tbody>\n",
       "</table>\n",
       "</div>"
      ],
      "text/plain": [
       "  USym  FiscalYear QuarterEndDate EarningsDeclarationDate  \\\n",
       "0   EW        2016      3/31/2016               3/31/2016   \n",
       "1   EW        2016      6/30/2016                7/8/2016   \n",
       "2   EW        2016      9/30/2016               10/5/2016   \n",
       "3   EW        2016     12/31/2016                1/4/2017   \n",
       "4   EW        2017      3/31/2017                4/7/2017   \n",
       "\n",
       "  EarningsDeclarationDateWSH EarningsAnnouncementDate DividendDeclarationDate  \\\n",
       "0                  3/31/2016                4/26/2016                  (null)   \n",
       "1                   7/8/2016                7/26/2016                  (null)   \n",
       "2                  10/4/2016               10/25/2016                  (null)   \n",
       "3                   1/3/2017                 2/1/2017                  (null)   \n",
       "4                   4/6/2017                4/25/2017                  (null)   \n",
       "\n",
       "  DividendExDate  \n",
       "0         (null)  \n",
       "1         (null)  \n",
       "2         (null)  \n",
       "3         (null)  \n",
       "4         (null)  "
      ]
     },
     "execution_count": 38,
     "metadata": {},
     "output_type": "execute_result"
    }
   ],
   "source": [
    "# We begin by converting our dataset from a csv file to a pandas dataframe, and looking at its contents\n",
    "dataset_name = \"caseStudyDivErnData.csv\"\n",
    "company_financial_releases_df = pd.read_csv(dataset_name)\n",
    "company_financial_releases_df.head()\n",
    "\n"
   ]
  },
  {
   "cell_type": "markdown",
   "metadata": {},
   "source": [
    "our dataset consists of company publication release data showing quarterly reports of what dates companies have released their earnings declarations, earnings announcements, dividend declerations, and dividend expirations. lets try to assertain the size of our dataset, the timeframe it tracks, and the amount of companies it tracks. before we get started on that however, lets make sure our datatypes are pandas datetime objects to allow for easier and quicker parsing."
   ]
  },
  {
   "cell_type": "code",
   "execution_count": 39,
   "metadata": {},
   "outputs": [
    {
     "data": {
      "text/plain": [
       "USym                          object\n",
       "FiscalYear                     int64\n",
       "QuarterEndDate                object\n",
       "EarningsDeclarationDate       object\n",
       "EarningsDeclarationDateWSH    object\n",
       "EarningsAnnouncementDate      object\n",
       "DividendDeclarationDate       object\n",
       "DividendExDate                object\n",
       "dtype: object"
      ]
     },
     "execution_count": 39,
     "metadata": {},
     "output_type": "execute_result"
    }
   ],
   "source": [
    "company_financial_releases_df.dtypes"
   ]
  },
  {
   "cell_type": "markdown",
   "metadata": {},
   "source": [
    "Our datatypes are not pandas datetimes but are simply general objects (likely strings which is to be expected) lets take a second and convert them. by first converting any null data into None's and converting dates using pandas built in to_datetime function"
   ]
  },
  {
   "cell_type": "code",
   "execution_count": 40,
   "metadata": {},
   "outputs": [
    {
     "data": {
      "text/plain": [
       "USym                                  object\n",
       "FiscalYear                             int64\n",
       "QuarterEndDate                datetime64[ns]\n",
       "EarningsDeclarationDate       datetime64[ns]\n",
       "EarningsDeclarationDateWSH    datetime64[ns]\n",
       "EarningsAnnouncementDate      datetime64[ns]\n",
       "DividendDeclarationDate       datetime64[ns]\n",
       "DividendExDate                datetime64[ns]\n",
       "dtype: object"
      ]
     },
     "execution_count": 40,
     "metadata": {},
     "output_type": "execute_result"
    }
   ],
   "source": [
    "# convert empty values to nulls\n",
    "replacement = {'(null)' : None}\n",
    "for col in company_financial_releases_df.columns:\n",
    "    company_financial_releases_df[col] = company_financial_releases_df[col].replace(replacement)\n",
    "\n",
    "\n",
    "#convert dates to datetime objects\n",
    "for i in range(2, company_financial_releases_df.shape[1]):\n",
    "    col = company_financial_releases_df.columns[i]\n",
    "    company_financial_releases_df[col] = pd.to_datetime(company_financial_releases_df[col])\n",
    "\n",
    "# print out new datatypes to verify conversions worked\n",
    "company_financial_releases_df.dtypes\n",
    "\n"
   ]
  },
  {
   "cell_type": "markdown",
   "metadata": {},
   "source": [
    "Fantastic! our conversions worked, now lets take a peek at the data inside"
   ]
  },
  {
   "cell_type": "code",
   "execution_count": 41,
   "metadata": {},
   "outputs": [
    {
     "name": "stdout",
     "output_type": "stream",
     "text": [
      "number of datapoints: 54601\n",
      "number of companies tracked in dataset: 2102\n",
      "years tracked: 2015 to 2025\n",
      "quarters tracked: 2015-11-30 00:00:00 to 2024-09-30 00:00:00\n"
     ]
    }
   ],
   "source": [
    "num_entries = company_financial_releases_df.shape[0]\n",
    "num_companies = len(company_financial_releases_df['USym'].unique())\n",
    "first_year = company_financial_releases_df['FiscalYear'].min()\n",
    "final_year = company_financial_releases_df['FiscalYear'].max()\n",
    "first_quarter = company_financial_releases_df['QuarterEndDate'].min()\n",
    "final_quarter = company_financial_releases_df['QuarterEndDate'].max()\n",
    "print(f\"number of datapoints: {num_entries}\")\n",
    "print(f\"number of companies tracked in dataset: {num_companies}\")\n",
    "print(f\"years tracked: {first_year} to {final_year}\")\n",
    "print(f\"quarters tracked: {first_quarter} to {final_quarter}\")\n",
    "\n"
   ]
  },
  {
   "cell_type": "markdown",
   "metadata": {},
   "source": [
    "our dataset contains 54601 datapoints each of which consists of the dates of important financial releases for a single company over a single quarter in total the dataset contains the data of 2102 companies release dates, spanning from the fiscal years of 2015-2025 going over Q4 2015 to Q3 2024. the final quarter in the dataset looks like it hasn't finished yet however! that's bizzare, in addition to this it seems like the dataset somehow tracks data from the 2025 fiscal year which is yet to occur.  lets take a look at what's going on there by filtering our dataframe to only look at quarters which have not been compeleted, and then by filtering to look only at the 2025 fiscal year."
   ]
  },
  {
   "cell_type": "code",
   "execution_count": 42,
   "metadata": {},
   "outputs": [
    {
     "data": {
      "text/html": [
       "<div>\n",
       "<style scoped>\n",
       "    .dataframe tbody tr th:only-of-type {\n",
       "        vertical-align: middle;\n",
       "    }\n",
       "\n",
       "    .dataframe tbody tr th {\n",
       "        vertical-align: top;\n",
       "    }\n",
       "\n",
       "    .dataframe thead th {\n",
       "        text-align: right;\n",
       "    }\n",
       "</style>\n",
       "<table border=\"1\" class=\"dataframe\">\n",
       "  <thead>\n",
       "    <tr style=\"text-align: right;\">\n",
       "      <th></th>\n",
       "      <th>USym</th>\n",
       "      <th>FiscalYear</th>\n",
       "      <th>QuarterEndDate</th>\n",
       "      <th>EarningsDeclarationDate</th>\n",
       "      <th>EarningsDeclarationDateWSH</th>\n",
       "      <th>EarningsAnnouncementDate</th>\n",
       "      <th>DividendDeclarationDate</th>\n",
       "      <th>DividendExDate</th>\n",
       "    </tr>\n",
       "  </thead>\n",
       "  <tbody>\n",
       "    <tr>\n",
       "      <th>65</th>\n",
       "      <td>HSBC</td>\n",
       "      <td>2024</td>\n",
       "      <td>2024-06-30</td>\n",
       "      <td>2024-05-01</td>\n",
       "      <td>2024-05-01</td>\n",
       "      <td>2024-07-31</td>\n",
       "      <td>NaT</td>\n",
       "      <td>NaT</td>\n",
       "    </tr>\n",
       "    <tr>\n",
       "      <th>565</th>\n",
       "      <td>APH</td>\n",
       "      <td>2024</td>\n",
       "      <td>2024-06-30</td>\n",
       "      <td>2024-04-25</td>\n",
       "      <td>2024-04-25</td>\n",
       "      <td>2024-07-24</td>\n",
       "      <td>NaT</td>\n",
       "      <td>NaT</td>\n",
       "    </tr>\n",
       "    <tr>\n",
       "      <th>802</th>\n",
       "      <td>AMAT</td>\n",
       "      <td>2024</td>\n",
       "      <td>2024-07-28</td>\n",
       "      <td>2024-05-17</td>\n",
       "      <td>2024-05-17</td>\n",
       "      <td>2024-08-15</td>\n",
       "      <td>NaT</td>\n",
       "      <td>NaT</td>\n",
       "    </tr>\n",
       "    <tr>\n",
       "      <th>1101</th>\n",
       "      <td>T</td>\n",
       "      <td>2024</td>\n",
       "      <td>2024-06-30</td>\n",
       "      <td>2024-05-23</td>\n",
       "      <td>2024-05-23</td>\n",
       "      <td>2024-07-24</td>\n",
       "      <td>NaT</td>\n",
       "      <td>NaT</td>\n",
       "    </tr>\n",
       "    <tr>\n",
       "      <th>1202</th>\n",
       "      <td>ALV</td>\n",
       "      <td>2024</td>\n",
       "      <td>2024-06-30</td>\n",
       "      <td>2024-04-29</td>\n",
       "      <td>2024-04-28</td>\n",
       "      <td>2024-07-19</td>\n",
       "      <td>NaT</td>\n",
       "      <td>NaT</td>\n",
       "    </tr>\n",
       "  </tbody>\n",
       "</table>\n",
       "</div>"
      ],
      "text/plain": [
       "      USym  FiscalYear QuarterEndDate EarningsDeclarationDate  \\\n",
       "65    HSBC        2024     2024-06-30              2024-05-01   \n",
       "565    APH        2024     2024-06-30              2024-04-25   \n",
       "802   AMAT        2024     2024-07-28              2024-05-17   \n",
       "1101     T        2024     2024-06-30              2024-05-23   \n",
       "1202   ALV        2024     2024-06-30              2024-04-29   \n",
       "\n",
       "     EarningsDeclarationDateWSH EarningsAnnouncementDate  \\\n",
       "65                   2024-05-01               2024-07-31   \n",
       "565                  2024-04-25               2024-07-24   \n",
       "802                  2024-05-17               2024-08-15   \n",
       "1101                 2024-05-23               2024-07-24   \n",
       "1202                 2024-04-28               2024-07-19   \n",
       "\n",
       "     DividendDeclarationDate DividendExDate  \n",
       "65                       NaT            NaT  \n",
       "565                      NaT            NaT  \n",
       "802                      NaT            NaT  \n",
       "1101                     NaT            NaT  \n",
       "1202                     NaT            NaT  "
      ]
     },
     "execution_count": 42,
     "metadata": {},
     "output_type": "execute_result"
    }
   ],
   "source": [
    "current_time = datetime.now()\n",
    "current_quarter_df = company_financial_releases_df[company_financial_releases_df['QuarterEndDate'] > current_time]\n",
    "current_quarter_df.head()"
   ]
  },
  {
   "cell_type": "markdown",
   "metadata": {},
   "source": [
    "It looks like this contains data partial data on the current quarter which has been collected as some companies have already released their earnings declarations and announcements, this makes sense and will likely be useful so we can keep it and deal with the null values when we clean up the rest of the data. Now let's take a look at what's going on with the data from 2025."
   ]
  },
  {
   "cell_type": "code",
   "execution_count": 43,
   "metadata": {},
   "outputs": [
    {
     "data": {
      "text/html": [
       "<div>\n",
       "<style scoped>\n",
       "    .dataframe tbody tr th:only-of-type {\n",
       "        vertical-align: middle;\n",
       "    }\n",
       "\n",
       "    .dataframe tbody tr th {\n",
       "        vertical-align: top;\n",
       "    }\n",
       "\n",
       "    .dataframe thead th {\n",
       "        text-align: right;\n",
       "    }\n",
       "</style>\n",
       "<table border=\"1\" class=\"dataframe\">\n",
       "  <thead>\n",
       "    <tr style=\"text-align: right;\">\n",
       "      <th></th>\n",
       "      <th>USym</th>\n",
       "      <th>FiscalYear</th>\n",
       "      <th>QuarterEndDate</th>\n",
       "      <th>EarningsDeclarationDate</th>\n",
       "      <th>EarningsDeclarationDateWSH</th>\n",
       "      <th>EarningsAnnouncementDate</th>\n",
       "      <th>DividendDeclarationDate</th>\n",
       "      <th>DividendExDate</th>\n",
       "    </tr>\n",
       "  </thead>\n",
       "  <tbody>\n",
       "    <tr>\n",
       "      <th>1645</th>\n",
       "      <td>BBY</td>\n",
       "      <td>2025</td>\n",
       "      <td>2024-05-04</td>\n",
       "      <td>2024-04-30</td>\n",
       "      <td>2024-04-30</td>\n",
       "      <td>2024-05-30</td>\n",
       "      <td>NaT</td>\n",
       "      <td>NaT</td>\n",
       "    </tr>\n",
       "    <tr>\n",
       "      <th>2127</th>\n",
       "      <td>STZ</td>\n",
       "      <td>2025</td>\n",
       "      <td>2024-05-31</td>\n",
       "      <td>2024-06-03</td>\n",
       "      <td>2024-06-03</td>\n",
       "      <td>2024-07-03</td>\n",
       "      <td>NaT</td>\n",
       "      <td>NaT</td>\n",
       "    </tr>\n",
       "    <tr>\n",
       "      <th>4319</th>\n",
       "      <td>EA</td>\n",
       "      <td>2025</td>\n",
       "      <td>2024-06-30</td>\n",
       "      <td>2024-05-08</td>\n",
       "      <td>2024-05-08</td>\n",
       "      <td>2024-07-30</td>\n",
       "      <td>NaT</td>\n",
       "      <td>NaT</td>\n",
       "    </tr>\n",
       "    <tr>\n",
       "      <th>5481</th>\n",
       "      <td>GCO</td>\n",
       "      <td>2025</td>\n",
       "      <td>2024-05-04</td>\n",
       "      <td>2024-05-10</td>\n",
       "      <td>2024-05-10</td>\n",
       "      <td>2024-05-31</td>\n",
       "      <td>NaT</td>\n",
       "      <td>NaT</td>\n",
       "    </tr>\n",
       "    <tr>\n",
       "      <th>5830</th>\n",
       "      <td>GES</td>\n",
       "      <td>2025</td>\n",
       "      <td>2024-05-04</td>\n",
       "      <td>2024-05-24</td>\n",
       "      <td>2024-05-24</td>\n",
       "      <td>2024-05-30</td>\n",
       "      <td>NaT</td>\n",
       "      <td>NaT</td>\n",
       "    </tr>\n",
       "  </tbody>\n",
       "</table>\n",
       "</div>"
      ],
      "text/plain": [
       "     USym  FiscalYear QuarterEndDate EarningsDeclarationDate  \\\n",
       "1645  BBY        2025     2024-05-04              2024-04-30   \n",
       "2127  STZ        2025     2024-05-31              2024-06-03   \n",
       "4319   EA        2025     2024-06-30              2024-05-08   \n",
       "5481  GCO        2025     2024-05-04              2024-05-10   \n",
       "5830  GES        2025     2024-05-04              2024-05-24   \n",
       "\n",
       "     EarningsDeclarationDateWSH EarningsAnnouncementDate  \\\n",
       "1645                 2024-04-30               2024-05-30   \n",
       "2127                 2024-06-03               2024-07-03   \n",
       "4319                 2024-05-08               2024-07-30   \n",
       "5481                 2024-05-10               2024-05-31   \n",
       "5830                 2024-05-24               2024-05-30   \n",
       "\n",
       "     DividendDeclarationDate DividendExDate  \n",
       "1645                     NaT            NaT  \n",
       "2127                     NaT            NaT  \n",
       "4319                     NaT            NaT  \n",
       "5481                     NaT            NaT  \n",
       "5830                     NaT            NaT  "
      ]
     },
     "execution_count": 43,
     "metadata": {},
     "output_type": "execute_result"
    }
   ],
   "source": [
    "future_fiscal_year_df = company_financial_releases_df[company_financial_releases_df['FiscalYear'] == 2025]\n",
    "future_fiscal_year_df.head()"
   ]
  },
  {
   "cell_type": "markdown",
   "metadata": {},
   "source": [
    "it looks like what's going on is differences in the dates companies elect to start their fiscal years on. Although most corporations start their fiscal years on January 1st there is nothing stopping them from picking any other date to base their yearly projections and quarters around. as this is an arbitrary distinction, for our purposes we will set all fiscal years to begin on January 1st, thus allowing for easier data analysis. We will also then do the same for assigning each row a corresponding quarter. As we have not been given the corresponding quarter number for any of our datapoints we will assume Q1 takes up the first three months of the year Q2 the next three, and continue the pattern for Q3 and Q4, once again in order to allow us to parse the data more efficiently and more meaningfully"
   ]
  },
  {
   "cell_type": "code",
   "execution_count": null,
   "metadata": {},
   "outputs": [],
   "source": [
    "def standardize_year(date_in):\n",
    "    try:\n",
    "        output = date_in.year\n",
    "    except:\n",
    "        output = np.nan\n",
    "    return output"
   ]
  },
  {
   "cell_type": "code",
   "execution_count": null,
   "metadata": {},
   "outputs": [],
   "source": [
    "def create_quarter(date_in):\n",
    "    try:\n",
    "        if(date_in.month <=3):\n",
    "            output = 'Q1'\n",
    "        elif(date_in.month <= 6):\n",
    "            output = 'Q2'\n",
    "        elif(date_in.month <= 9):\n",
    "            output = 'Q3'\n",
    "        else:\n",
    "            output = 'Q4'\n",
    "    except:\n",
    "        output = None\n",
    "    return output"
   ]
  },
  {
   "cell_type": "code",
   "execution_count": null,
   "metadata": {},
   "outputs": [],
   "source": [
    "company_financial_releases_df['FiscalYear'] = company_financial_releases_df['QuarterEndDate'].apply(standardize_year)\n",
    "company_financial_releases_df['FiscalYear'].unique()"
   ]
  },
  {
   "cell_type": "markdown",
   "metadata": {},
   "source": [
    "We now no longer have any maligned data where the fiscal year doesn't match the actual year, now let's add quarter numbers to all datapoints"
   ]
  },
  {
   "cell_type": "markdown",
   "metadata": {},
   "source": [
    "Now that we have our data in the correct format, and understand what exactly its stored it is time to finish cleaning the dataset by merging the EarningsDeclarationDate columns, taking the values from EarningsDeclarationDate when they exist, and storing the value in EarningsDeclarationDateWSH otherwise, and splitting our dataset into two seperate dataframes. one storing only company earnings information and one storing both earnings and dividend information, as there might exist companies with no dividends available that we can analyze Earnings data from."
   ]
  },
  {
   "cell_type": "code",
   "execution_count": 113,
   "metadata": {},
   "outputs": [],
   "source": [
    "# merging declaration data together\n",
    "earning_dec_src_one = company_financial_releases_df['EarningsDeclarationDate']\n",
    "earning_dec_src_two = company_financial_releases_df['EarningsDeclarationDateWSH']\n",
    "company_financial_releases_df['EarningsDeclarationDate'] = earning_dec_src_one.combine_first(earning_dec_src_two)\n",
    "# getting rid of newly unnecessary WSH column\n",
    "new_company_financial_releases_df = company_financial_releases_df.drop(columns=['EarningsDeclarationDateWSH'])\n",
    "\n",
    "\n"
   ]
  },
  {
   "cell_type": "markdown",
   "metadata": {},
   "source": [
    "Now that we have gotten rid of the unnecessary WSH column all of our data is in the expected format. So lets split it up into two dataframes, one tracking dividends and one tracking earning so that we can use earnings data for companies who didn't offer dividends for a quarter in our analysis of Earnings Declaration Dates, while still making to sure to get rid of companies without dividend reports when analyzing Dividend Expirations"
   ]
  },
  {
   "cell_type": "code",
   "execution_count": 121,
   "metadata": {},
   "outputs": [],
   "source": [
    "#constructing dataframe to store solely company earnings information\n",
    "earnings_cols = ['USym', 'FiscalYear', 'QuarterEndDate', 'EarningsDeclarationDate', 'EarningsAnnouncementDate', 'Quarter']\n",
    "company_earnings_df = new_company_financial_releases_df[earnings_cols]\n"
   ]
  },
  {
   "cell_type": "markdown",
   "metadata": {},
   "source": [
    "Now that we have both of our dataframes set up lets try and see if there remains any null data, and if so decide what to do with it."
   ]
  },
  {
   "cell_type": "code",
   "execution_count": 122,
   "metadata": {},
   "outputs": [
    {
     "name": "stdout",
     "output_type": "stream",
     "text": [
      "there is a total of 0 rows where there exists missing Earnings data, out of a total of 54601 rows\n",
      "there is a total of 25199 rows where there exists missing dividend data, out of a total of 54601 rows\n"
     ]
    }
   ],
   "source": [
    "null_earnings = company_earnings_df.isnull().any(axis=1).sum()\n",
    "num_datapoints = company_earnings_df.shape[0]\n",
    "null_dividends = company_financial_releases_df.isnull().any(axis=1).sum()\n",
    "\n",
    "print(f\"there is a total of {null_earnings} rows where there exists missing Earnings data, out of a total of {num_datapoints} rows\")\n",
    "print(f\"there is a total of {null_dividends} rows where there exists missing dividend data, out of a total of {num_datapoints} rows\")"
   ]
  },
  {
   "cell_type": "markdown",
   "metadata": {},
   "source": [
    "It looks like all of our earnings data is present but nearly half of the reports are missing some sort of dividend data, lets check and see if this is because there is some sort of data corruption, or if its just because these companies didn't release dividend reports/pay dividends. we can do this by assuming that if both dividend columns are missing the company didn't release dividends for the quarter, but if any dividend data is present we assume the data has been somehow lost."
   ]
  },
  {
   "cell_type": "code",
   "execution_count": 123,
   "metadata": {},
   "outputs": [
    {
     "data": {
      "text/html": [
       "<div>\n",
       "<style scoped>\n",
       "    .dataframe tbody tr th:only-of-type {\n",
       "        vertical-align: middle;\n",
       "    }\n",
       "\n",
       "    .dataframe tbody tr th {\n",
       "        vertical-align: top;\n",
       "    }\n",
       "\n",
       "    .dataframe thead th {\n",
       "        text-align: right;\n",
       "    }\n",
       "</style>\n",
       "<table border=\"1\" class=\"dataframe\">\n",
       "  <thead>\n",
       "    <tr style=\"text-align: right;\">\n",
       "      <th></th>\n",
       "      <th>USym</th>\n",
       "      <th>FiscalYear</th>\n",
       "      <th>QuarterEndDate</th>\n",
       "      <th>EarningsDeclarationDate</th>\n",
       "      <th>EarningsAnnouncementDate</th>\n",
       "      <th>DividendDeclarationDate</th>\n",
       "      <th>DividendExDate</th>\n",
       "      <th>Quarter</th>\n",
       "    </tr>\n",
       "  </thead>\n",
       "  <tbody>\n",
       "    <tr>\n",
       "      <th>48</th>\n",
       "      <td>HSBC</td>\n",
       "      <td>2020</td>\n",
       "      <td>2020-03-31</td>\n",
       "      <td>2020-02-19</td>\n",
       "      <td>2020-04-28</td>\n",
       "      <td>NaT</td>\n",
       "      <td>2020-08-13</td>\n",
       "      <td>Q1</td>\n",
       "    </tr>\n",
       "    <tr>\n",
       "      <th>49</th>\n",
       "      <td>HSBC</td>\n",
       "      <td>2020</td>\n",
       "      <td>2020-06-30</td>\n",
       "      <td>2020-04-29</td>\n",
       "      <td>2020-08-03</td>\n",
       "      <td>NaT</td>\n",
       "      <td>2020-08-13</td>\n",
       "      <td>Q2</td>\n",
       "    </tr>\n",
       "    <tr>\n",
       "      <th>117</th>\n",
       "      <td>ANF</td>\n",
       "      <td>2020</td>\n",
       "      <td>2020-05-02</td>\n",
       "      <td>2020-05-18</td>\n",
       "      <td>2020-05-28</td>\n",
       "      <td>NaT</td>\n",
       "      <td>2020-09-04</td>\n",
       "      <td>Q2</td>\n",
       "    </tr>\n",
       "    <tr>\n",
       "      <th>118</th>\n",
       "      <td>ANF</td>\n",
       "      <td>2020</td>\n",
       "      <td>2020-08-01</td>\n",
       "      <td>2020-07-31</td>\n",
       "      <td>2020-08-27</td>\n",
       "      <td>NaT</td>\n",
       "      <td>2020-09-04</td>\n",
       "      <td>Q3</td>\n",
       "    </tr>\n",
       "    <tr>\n",
       "      <th>316</th>\n",
       "      <td>AGCO</td>\n",
       "      <td>2021</td>\n",
       "      <td>2021-03-31</td>\n",
       "      <td>2021-04-06</td>\n",
       "      <td>2021-04-29</td>\n",
       "      <td>NaT</td>\n",
       "      <td>2021-05-07</td>\n",
       "      <td>Q1</td>\n",
       "    </tr>\n",
       "  </tbody>\n",
       "</table>\n",
       "</div>"
      ],
      "text/plain": [
       "     USym  FiscalYear QuarterEndDate EarningsDeclarationDate  \\\n",
       "48   HSBC        2020     2020-03-31              2020-02-19   \n",
       "49   HSBC        2020     2020-06-30              2020-04-29   \n",
       "117   ANF        2020     2020-05-02              2020-05-18   \n",
       "118   ANF        2020     2020-08-01              2020-07-31   \n",
       "316  AGCO        2021     2021-03-31              2021-04-06   \n",
       "\n",
       "    EarningsAnnouncementDate DividendDeclarationDate DividendExDate Quarter  \n",
       "48                2020-04-28                     NaT     2020-08-13      Q1  \n",
       "49                2020-08-03                     NaT     2020-08-13      Q2  \n",
       "117               2020-05-28                     NaT     2020-09-04      Q2  \n",
       "118               2020-08-27                     NaT     2020-09-04      Q3  \n",
       "316               2021-04-29                     NaT     2021-05-07      Q1  "
      ]
     },
     "execution_count": 123,
     "metadata": {},
     "output_type": "execute_result"
    }
   ],
   "source": [
    "dividend_dec_col = new_company_financial_releases_df['DividendDeclarationDate']\n",
    "dividend_ex_col = new_company_financial_releases_df['DividendExDate']\n",
    "\n",
    "corrupted_earnings_df = new_company_financial_releases_df[(pd.isnull(dividend_dec_col) & pd.notnull(dividend_ex_col)) | (pd.isnull(dividend_ex_col) & pd.notnull(dividend_dec_col))]\n",
    "corrupted_earnings_df.head()\n",
    "\n"
   ]
  },
  {
   "cell_type": "code",
   "execution_count": 124,
   "metadata": {},
   "outputs": [
    {
     "data": {
      "text/plain": [
       "<DatetimeArray>\n",
       "['NaT']\n",
       "Length: 1, dtype: datetime64[ns]"
      ]
     },
     "execution_count": 124,
     "metadata": {},
     "output_type": "execute_result"
    }
   ],
   "source": [
    "corrupted_earnings_df['DividendDeclarationDate'].unique()"
   ]
  },
  {
   "cell_type": "code",
   "execution_count": 125,
   "metadata": {},
   "outputs": [
    {
     "data": {
      "text/html": [
       "<div>\n",
       "<style scoped>\n",
       "    .dataframe tbody tr th:only-of-type {\n",
       "        vertical-align: middle;\n",
       "    }\n",
       "\n",
       "    .dataframe tbody tr th {\n",
       "        vertical-align: top;\n",
       "    }\n",
       "\n",
       "    .dataframe thead th {\n",
       "        text-align: right;\n",
       "    }\n",
       "</style>\n",
       "<table border=\"1\" class=\"dataframe\">\n",
       "  <thead>\n",
       "    <tr style=\"text-align: right;\">\n",
       "      <th></th>\n",
       "      <th>FiscalYear</th>\n",
       "      <th>QuarterEndDate</th>\n",
       "      <th>EarningsDeclarationDate</th>\n",
       "      <th>EarningsAnnouncementDate</th>\n",
       "      <th>DividendDeclarationDate</th>\n",
       "      <th>DividendExDate</th>\n",
       "    </tr>\n",
       "  </thead>\n",
       "  <tbody>\n",
       "    <tr>\n",
       "      <th>count</th>\n",
       "      <td>2142.000000</td>\n",
       "      <td>2142</td>\n",
       "      <td>2142</td>\n",
       "      <td>2142</td>\n",
       "      <td>0</td>\n",
       "      <td>2142</td>\n",
       "    </tr>\n",
       "    <tr>\n",
       "      <th>mean</th>\n",
       "      <td>2019.266106</td>\n",
       "      <td>2019-11-09 20:57:08.571428352</td>\n",
       "      <td>2019-11-25 02:41:20.672268800</td>\n",
       "      <td>2019-12-18 02:02:21.176470528</td>\n",
       "      <td>NaT</td>\n",
       "      <td>2020-10-12 11:28:24.201680384</td>\n",
       "    </tr>\n",
       "    <tr>\n",
       "      <th>min</th>\n",
       "      <td>2015.000000</td>\n",
       "      <td>2015-12-26 00:00:00</td>\n",
       "      <td>2016-01-04 00:00:00</td>\n",
       "      <td>2016-01-26 00:00:00</td>\n",
       "      <td>NaT</td>\n",
       "      <td>2016-01-06 00:00:00</td>\n",
       "    </tr>\n",
       "    <tr>\n",
       "      <th>25%</th>\n",
       "      <td>2017.000000</td>\n",
       "      <td>2017-12-31 00:00:00</td>\n",
       "      <td>2018-01-24 00:00:00</td>\n",
       "      <td>2018-02-12 00:00:00</td>\n",
       "      <td>NaT</td>\n",
       "      <td>2018-12-16 18:00:00</td>\n",
       "    </tr>\n",
       "    <tr>\n",
       "      <th>50%</th>\n",
       "      <td>2019.500000</td>\n",
       "      <td>2020-01-15 12:00:00</td>\n",
       "      <td>2020-02-13 12:00:00</td>\n",
       "      <td>2020-03-12 00:00:00</td>\n",
       "      <td>NaT</td>\n",
       "      <td>2020-09-03 00:00:00</td>\n",
       "    </tr>\n",
       "    <tr>\n",
       "      <th>75%</th>\n",
       "      <td>2021.000000</td>\n",
       "      <td>2021-06-30 00:00:00</td>\n",
       "      <td>2021-07-28 00:00:00</td>\n",
       "      <td>2021-08-12 00:00:00</td>\n",
       "      <td>NaT</td>\n",
       "      <td>2023-01-24 00:00:00</td>\n",
       "    </tr>\n",
       "    <tr>\n",
       "      <th>max</th>\n",
       "      <td>2024.000000</td>\n",
       "      <td>2024-03-31 00:00:00</td>\n",
       "      <td>2024-05-10 00:00:00</td>\n",
       "      <td>2024-05-28 00:00:00</td>\n",
       "      <td>NaT</td>\n",
       "      <td>2024-06-10 00:00:00</td>\n",
       "    </tr>\n",
       "    <tr>\n",
       "      <th>std</th>\n",
       "      <td>2.239128</td>\n",
       "      <td>NaN</td>\n",
       "      <td>NaN</td>\n",
       "      <td>NaN</td>\n",
       "      <td>NaN</td>\n",
       "      <td>NaN</td>\n",
       "    </tr>\n",
       "  </tbody>\n",
       "</table>\n",
       "</div>"
      ],
      "text/plain": [
       "        FiscalYear                 QuarterEndDate  \\\n",
       "count  2142.000000                           2142   \n",
       "mean   2019.266106  2019-11-09 20:57:08.571428352   \n",
       "min    2015.000000            2015-12-26 00:00:00   \n",
       "25%    2017.000000            2017-12-31 00:00:00   \n",
       "50%    2019.500000            2020-01-15 12:00:00   \n",
       "75%    2021.000000            2021-06-30 00:00:00   \n",
       "max    2024.000000            2024-03-31 00:00:00   \n",
       "std       2.239128                            NaN   \n",
       "\n",
       "             EarningsDeclarationDate       EarningsAnnouncementDate  \\\n",
       "count                           2142                           2142   \n",
       "mean   2019-11-25 02:41:20.672268800  2019-12-18 02:02:21.176470528   \n",
       "min              2016-01-04 00:00:00            2016-01-26 00:00:00   \n",
       "25%              2018-01-24 00:00:00            2018-02-12 00:00:00   \n",
       "50%              2020-02-13 12:00:00            2020-03-12 00:00:00   \n",
       "75%              2021-07-28 00:00:00            2021-08-12 00:00:00   \n",
       "max              2024-05-10 00:00:00            2024-05-28 00:00:00   \n",
       "std                              NaN                            NaN   \n",
       "\n",
       "      DividendDeclarationDate                 DividendExDate  \n",
       "count                       0                           2142  \n",
       "mean                      NaT  2020-10-12 11:28:24.201680384  \n",
       "min                       NaT            2016-01-06 00:00:00  \n",
       "25%                       NaT            2018-12-16 18:00:00  \n",
       "50%                       NaT            2020-09-03 00:00:00  \n",
       "75%                       NaT            2023-01-24 00:00:00  \n",
       "max                       NaT            2024-06-10 00:00:00  \n",
       "std                       NaN                            NaN  "
      ]
     },
     "execution_count": 125,
     "metadata": {},
     "output_type": "execute_result"
    }
   ],
   "source": [
    "corrupted_earnings_df.describe()"
   ]
  },
  {
   "cell_type": "markdown",
   "metadata": {},
   "source": [
    "it looks like there are about 2000 corrupted datapoints, all of which have dividend expiration dates but no dividend declaration dates, as companies must declare dividends before paying them we can assume that this is an issue with our dataset and not some extraneous factor because of this we must drop all of these datapoints as it is essential to know the dividend declaration date for us to make any meaningful insights. We also should drop the remaining 18,000 datapoints which don't include dividend information at all as we can assume those companies simply didn't offer any dividends those quarters"
   ]
  },
  {
   "cell_type": "code",
   "execution_count": 126,
   "metadata": {},
   "outputs": [],
   "source": [
    "cleaned_dividend_df = new_company_financial_releases_df.dropna()"
   ]
  },
  {
   "cell_type": "markdown",
   "metadata": {},
   "source": [
    "# Step Two: Earnings Analysis\n",
    "now that we have our two cleaned dataframes storing dividend and earnings information from the past 10 years we proceed to try and make the following inferences in our earnings analysis\n",
    "* what is the general distribution of the amount of days between a quarter end date and an earnings announcemen.\n",
    "* what effect does the financial quarter (Q1, Q2, Q3, Q4) have on the distribution of the number of days between a quarter end date and an earnings announcement \n",
    "* what effect does the fiscal year have on the distribution of the number of days between a quarter end date and an earnings announcement"
   ]
  },
  {
   "cell_type": "markdown",
   "metadata": {},
   "source": [
    "## General Distribution\n",
    "We find the general distribution by calculating the number of days between the end of a quarter, an earnings decleration, and an earnings announcement and plotting it on a histogram"
   ]
  },
  {
   "cell_type": "code",
   "execution_count": 160,
   "metadata": {},
   "outputs": [
    {
     "data": {
      "image/png": "[encoded data removed]",
      "text/plain": [
       "<Figure size 640x480 with 1 Axes>"
      ]
     },
     "metadata": {},
     "output_type": "display_data"
    }
   ],
   "source": [
    "# calculation of number of days between end of quarter and earnings announcement \n",
    "company_earnings_df['DaysBetweenQuarterAndAnnouncement'] = (\n",
    "    company_earnings_df['EarningsAnnouncementDate'] - company_earnings_df['EarningsDeclarationDate']\n",
    ").dt.days\n",
    "\n",
    "# histogram displaying distribution of days between end of quarter and earnings declaration\n",
    "num_bins = 100\n",
    "sns.histplot(data=company_earnings_df, x=\"DaysBetweenQuarterAndAnnouncement\", bins=num_bins)\n",
    "plt.xlabel(\"Days Between End of Quarter and Earnings Announcement\")\n",
    "plt.ylabel(\"Frequency\")\n",
    "plt.title(\"Distribution of the number of days Between the End of a financial Quarter and an Earnings Announcement\")\n",
    "plt.show()"
   ]
  },
  {
   "cell_type": "markdown",
   "metadata": {},
   "source": [
    "We can see from this histogram that the distribution follows a normal distribution pretty uniformly peaking at roughly 29 days after the end of the quarter. Lets take a more in depth look at this by generating a normal distribution."
   ]
  },
  {
   "cell_type": "code",
   "execution_count": 161,
   "metadata": {},
   "outputs": [
    {
     "data": {
      "image/png": "[encoded data removed]",
      "text/plain": [
       "<Figure size 640x480 with 1 Axes>"
      ]
     },
     "metadata": {},
     "output_type": "display_data"
    },
    {
     "name": "stdout",
     "output_type": "stream",
     "text": [
      "estimated mean and standard deviation for amount of days between the end of a quarter and an earnings declaration, Mean:25.004999908426587 std dev: 21.313853701661802\n"
     ]
    }
   ],
   "source": [
    "from scipy.stats import norm\n",
    "#Histogram displaying normal distribution estimate of data\n",
    "sns.histplot(data=company_earnings_df, x='DaysBetweenQuarterAndAnnouncement', stat='density', bins=num_bins)\n",
    "\n",
    "#calculating mean, std and generating a distribution\n",
    "mean = company_earnings_df['DaysBetweenQuarterAndAnnouncement'].mean()\n",
    "std_dev = company_earnings_df['DaysBetweenQuarterAndAnnouncement'].std()\n",
    "x = np.linspace(company_earnings_df['DaysBetweenQuarterAndAnnouncement'].min(), company_earnings_df['DaysBetweenQuarterAndAnnouncement'].max(), 100)\n",
    "\n",
    "\n",
    "# overlay normal distribution\n",
    "plt.plot(x, norm.pdf(x, mean, std_dev), label=\"Normal Distribution\", color=\"red\")\n",
    "plt.xlabel(\"Days Between End of Quarter and Earnings Announcement\")\n",
    "plt.ylabel(\"Density\")\n",
    "plt.xlim(-100,100)\n",
    "plt.title(\"Normal Distribution Estimate\")\n",
    "plt.legend()\n",
    "plt.show()\n",
    "\n",
    "print(f\"estimated mean and standard deviation for amount of days between the end of a quarter and an earnings declaration, Mean:{mean} std dev: {std_dev}\")"
   ]
  },
  {
   "cell_type": "markdown",
   "metadata": {},
   "source": [
    "We see from this that 50% of declarations occur within 25 days of the end of a fiscal quarter but we also see a large standard deviation meaning the data is spread out more widely then we'd expect. This is likely due to the hump seen in the right side of the graph showing that a non negligable portion of declarations actually occur between 75-100 days after the end of a quarter, a suprising result as we expect most companies to announce their earnings quickly after the end of a quarter. Let's try and assertain why exactly this hump exists, is there a group of companies that tend to file early? or a time period/quarter where companies file earlier then expected?"
   ]
  },
  {
   "cell_type": "code",
   "execution_count": 163,
   "metadata": {},
   "outputs": [
    {
     "name": "stdout",
     "output_type": "stream",
     "text": [
      "percentage of companies in database who have filed early at least once: 0.16127497621313036\n"
     ]
    }
   ],
   "source": [
    "# grab the subset of declarations occuring before the end of the quarter \n",
    "late_announcements_df = company_earnings_df[company_earnings_df['DaysBetweenQuarterAndAnnouncement'] > 75]\n",
    "late_announcement_ratio = (late_announcements_df['USym'].nunique()) / (company_earnings_df['USym'].nunique())\n",
    "print(f\"percentage of companies in database who have filed early at least once: {late_announcement_ratio}\")"
   ]
  },
  {
   "cell_type": "markdown",
   "metadata": {},
   "source": [
    "it looks like a larger amount of companies then expected have declared earnings early, with over 16% of total companies in the dataset declaring their earnings before the quarter ends at least once, so this isn't a practice that a couple outlier companies have, lets try and see if it had something to do with any of the economic downturns over the past 10 years by seeing in what years these early declarations were the most common"
   ]
  },
  {
   "cell_type": "code",
   "execution_count": 164,
   "metadata": {},
   "outputs": [
    {
     "data": {
      "image/png": "[encoded data removed]",
      "text/plain": [
       "<Figure size 640x480 with 1 Axes>"
      ]
     },
     "metadata": {},
     "output_type": "display_data"
    }
   ],
   "source": [
    "num_bins = 9\n",
    "sns.histplot(data=late_announcements_df, x=\"FiscalYear\", bins=num_bins, stat=\"density\")\n",
    "plt.xlabel(\"year\")\n",
    "plt.ylabel(\"density\")\n",
    "plt.title(\"density of early earnings declarations by year\")\n",
    "plt.show()"
   ]
  },
  {
   "cell_type": "markdown",
   "metadata": {},
   "source": [
    "There doesn't seem to be much variation in early earnings declarations by year, as every year has at least 10% of the late announcementx, (except for 2024 which is on track to reach 10%) in fact the years with the most volatility and economic downturn (2020, 2021 due to the covid pandemic) seem to have the least amount of late announcements, lets check if early declarations occur more in specific quarters or if the general baseline of earnings declarations only occuring after quarter end dates is incorrect."
   ]
  },
  {
   "cell_type": "code",
   "execution_count": 165,
   "metadata": {},
   "outputs": [
    {
     "data": {
      "image/png": "[encoded data removed]",
      "text/plain": [
       "<Figure size 640x480 with 1 Axes>"
      ]
     },
     "metadata": {},
     "output_type": "display_data"
    }
   ],
   "source": [
    "num_bins = 4\n",
    "sns.histplot(data=late_announcements_df, x=\"Quarter\", bins=num_bins, stat='density')\n",
    "plt.xlabel('quarter')\n",
    "plt.ylabel('density')\n",
    "plt.title('density of early earnings declarations by quarter')\n",
    "plt.show()\n"
   ]
  },
  {
   "cell_type": "markdown",
   "metadata": {},
   "source": [
    "there seems to be some correlation here as Q2, Q3 have nearly double the amount of late announcements as Q4, and Q1 lets break this down further by mapping out these distributions seperatly "
   ]
  },
  {
   "cell_type": "markdown",
   "metadata": {},
   "source": []
  },
  {
   "cell_type": "code",
   "execution_count": 168,
   "metadata": {},
   "outputs": [
    {
     "data": {
      "image/png": "[encoded data removed]",
      "text/plain": [
       "<Figure size 2000x500 with 4 Axes>"
      ]
     },
     "metadata": {},
     "output_type": "display_data"
    }
   ],
   "source": [
    "num_bins = 100\n",
    "# creating figures and subplots showcasing how the time in between quarter end date and earnings declaration changes depending on the given quarter\n",
    "quarters = company_earnings_df['Quarter'].unique()\n",
    "fig, axs = plt.subplots(1, len(quarters), figsize=(20,5), sharey=True) # setting sharey ensures all figures have the same timescale on the bottom\n",
    "for i, quarter in enumerate(quarters): # looping over all quarters to display their plots\n",
    "    quarter_df = company_earnings_df[company_earnings_df['Quarter'] == quarter]\n",
    "    axs[i].hist(quarter_df['DaysBetweenQuarterAndAnnouncement'], bins=num_bins)\n",
    "    axs[i].set_title(f'{quarter} distribution')\n",
    "    axs[i].set_xlabel('Days between end of quarter and earnings announcement')\n",
    "    if i == 0:\n",
    "        axs[i].set_ylabel('Frequency')\n",
    "plt.tight_layout()\n",
    "plt.show()"
   ]
  },
  {
   "cell_type": "markdown",
   "metadata": {},
   "source": [
    "the plots above show large spikes in both quarter 2 and 3 around the 80-90 day mark and a large increase in announcements around this time compared to the previous 40 days. we can see that much smaller spikes are seen in Q1 and Q4 but these could be easily chalked up to not having a robust and large enough dataset. The spikes in Q2/Q3 suggest there are other factors at play during these quarters that delay companies from announcing their earnings long unti after the quarter ends. Lets attempt to see if this causes a positive correlation between quarter number, and the amount of days between the end of a quarter and an earnings announcement"
   ]
  },
  {
   "cell_type": "code",
   "execution_count": 172,
   "metadata": {},
   "outputs": [
    {
     "name": "stdout",
     "output_type": "stream",
     "text": [
      "DaysBetweenQuarterAndAnnouncement    1.00000\n",
      "Quarter                              0.03998\n",
      "Name: DaysBetweenQuarterAndAnnouncement, dtype: float64\n"
     ]
    }
   ],
   "source": [
    "# dropping unnecessary columns \n",
    "quarter_correlation_df = company_earnings_df.loc[:,['DaysBetweenQuarterAndAnnouncement', 'Quarter']]\n",
    "# converting quarter column to integer\n",
    "mapping = { 'Q1': 1, 'Q2' : 2, 'Q3' : 3, 'Q4' : 4}\n",
    "quarter_correlation_df['Quarter'] = quarter_correlation_df['Quarter'].map(mapping)\n",
    "correlation_matrix = quarter_correlation_df.corr(method=\"spearman\")\n",
    "print(correlation_matrix['DaysBetweenQuarterAndAnnouncement'])\n",
    "\n",
    "\n"
   ]
  },
  {
   "cell_type": "markdown",
   "metadata": {},
   "source": [
    "the correlation coefficiant is around 0.04 suggesting little to no correlation between the quarter in which earnings are declared, and the time from the quarter end date to the earnings declaration. However we can definetly state that if an earnings announcement is more then 50 days following the end of the quarter it is most likely from Q2, or Q3 which could be due verying market conditions, or an increase in internal, or governmental audits during these times or a multitude of other factors."
   ]
  },
  {
   "cell_type": "markdown",
   "metadata": {},
   "source": []
  }
 ],
 "metadata": {
  "kernelspec": {
   "display_name": "Python 3",
   "language": "python",
   "name": "python3"
  },
  "language_info": {
   "codemirror_mode": {
    "name": "ipython",
    "version": 3
   },
   "file_extension": ".py",
   "mimetype": "text/x-python",
   "name": "python",
   "nbconvert_exporter": "python",
   "pygments_lexer": "ipython3",
   "version": "3.12.2"
  }
 },
 "nbformat": 4,
 "nbformat_minor": 2
}
